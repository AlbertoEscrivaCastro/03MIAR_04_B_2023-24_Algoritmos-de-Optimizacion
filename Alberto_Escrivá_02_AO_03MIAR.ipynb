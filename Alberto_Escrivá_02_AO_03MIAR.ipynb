{
  "cells": [
    {
      "cell_type": "markdown",
      "metadata": {
        "id": "view-in-github",
        "colab_type": "text"
      },
      "source": [
        "<a href=\"https://colab.research.google.com/github/AlbertoEscrivaCastro/03MIAR_04_B_2023-24_Algoritmos-de-Optimizacion/blob/main/Alberto_Escriv%C3%A1_02_AO_03MIAR.ipynb\" target=\"_parent\"><img src=\"https://colab.research.google.com/assets/colab-badge.svg\" alt=\"Open In Colab\"/></a>"
      ]
    },
    {
      "cell_type": "markdown",
      "id": "5bae1ac7",
      "metadata": {
        "id": "5bae1ac7"
      },
      "source": [
        "<font color=\"#002856\"><h1 align=\"left\">Algoritmos de optimización</h1></font>\n",
        "<font color=\"#002856\"><h2 align=\"left\">VC-2 Diseño de algoritmos</h2></font>\n",
        "\n",
        "#### Profesor: Juan Francisco Vallalta Rueda\n",
        "---"
      ]
    },
    {
      "cell_type": "markdown",
      "id": "d6a8c0a8",
      "metadata": {
        "id": "d6a8c0a8"
      },
      "source": [
        "# Medir el tiempo de ejecución"
      ]
    },
    {
      "cell_type": "markdown",
      "id": "e37d9b38",
      "metadata": {
        "id": "e37d9b38"
      },
      "source": [
        "Medir el tiempo de ejecución de un programa es una tarea muy importante, ya que programar no sólo consiste en crear código que funcione, sino código que pueda ser ejecutado en un tiempo razonable.\n",
        "\n",
        "La librería **time** nos permite medir el tiempo de ejecución en Python, utilizando el método  `time()`."
      ]
    },
    {
      "cell_type": "code",
      "execution_count": 1,
      "id": "dc20e4d2",
      "metadata": {
        "colab": {
          "base_uri": "https://localhost:8080/"
        },
        "id": "dc20e4d2",
        "outputId": "4076b17e-8c59-4577-a08a-b8f926a28728"
      },
      "outputs": [
        {
          "output_type": "stream",
          "name": "stdout",
          "text": [
            "10.01037049293518\n"
          ]
        }
      ],
      "source": [
        "# Medida del tiempo de ejecucion con time\n",
        "import time\n",
        "inicio = time.time()\n",
        "\n",
        "# Código a medir\n",
        "time.sleep(10)\n",
        "# -------------\n",
        "\n",
        "fin = time.time()\n",
        "print(fin-inicio) # 1.0005340576171875"
      ]
    },
    {
      "cell_type": "markdown",
      "id": "52b5fc0a",
      "metadata": {
        "id": "52b5fc0a"
      },
      "source": [
        "# Generación de números enteros aleatorios"
      ]
    },
    {
      "cell_type": "code",
      "execution_count": 2,
      "id": "ca5148de",
      "metadata": {
        "colab": {
          "base_uri": "https://localhost:8080/"
        },
        "id": "ca5148de",
        "outputId": "56330334-b8f0-40ef-84af-b6d76698d0f1"
      },
      "outputs": [
        {
          "output_type": "stream",
          "name": "stdout",
          "text": [
            "[846, 866, 506, 280, 968, 467, 673, 389, 743, 133, 516, 697, 382, 6, 425, 337, 484, 625, 915, 899, 301, 25, 225, 719, 160, 712, 578, 541, 763, 679, 550, 327, 473, 38, 466, 815, 844, 49, 397, 855, 396, 43, 36, 455, 216, 576, 845, 336, 132, 890, 260, 639, 388, 416, 881, 561, 207, 386, 438, 247, 184, 894, 118, 58, 479, 346, 310, 765, 367, 753, 437, 251, 67, 662, 30, 777, 471, 605, 718, 869, 700, 857, 991, 422, 729, 743, 314, 839, 691, 831, 649, 804, 845, 483, 672, 288, 968, 984, 521, 875]\n"
          ]
        }
      ],
      "source": [
        "# Mödulo random\n",
        "import random\n",
        "\n",
        "# Inicialización del rango de números a generar\n",
        "inicio= 0\n",
        "fin = 1000\n",
        "cantidad = 100\n",
        "\n",
        "# Lista de números aleatorios\n",
        "numeros_aleatorios = [random.randint(inicio,fin) for i in range(cantidad)]\n",
        "print(numeros_aleatorios)"
      ]
    },
    {
      "cell_type": "markdown",
      "id": "c43d5913",
      "metadata": {
        "id": "c43d5913"
      },
      "source": [
        "# Ejercicios\n",
        "\n",
        "## Implementa  una solución para el problema del cambio de moneda en un sistema monetario con las siguientes monedas: {1, 2, 5, 10, 20 , 50}"
      ]
    },
    {
      "cell_type": "code",
      "source": [
        "# Medida del tiempo de ejecucion con time\n",
        "import time\n",
        "\n",
        "# Problema de cambio de monedas\n",
        "# Intentar entregar un cambio, ej 76€, con el mínimo número de monedas posibles.\n",
        "# Teniendo un numero ilimitado de monedas de cada tipo.\n",
        "# Función de factibilidad es aquella condiución que evalúa si un determiando\n",
        "# tipo de paso es factible como siguiente paso.\n",
        "# En este caso, iríamos tomando siempre la siguiente más grande posible (TÉCNICA VORAZ).\n",
        "# Incluir verificación de si se ha encontrado solucion al problema.\n",
        "def cambio_moneda( valor , sistema_monetario ):\n",
        "  cambio    = []\n",
        "  candidato = max( sistema_monetario )\n",
        "  n         = valor // candidato\n",
        "\n",
        "\n",
        "  for i in range( n ):\n",
        "    cambio.append( candidato )\n",
        "\n",
        "  sistema_monetario.remove( candidato )\n",
        "  valor = valor % candidato\n",
        "\n",
        "  if   valor                    > 0 :\n",
        "    if len( sistema_monetario ) > 0 :\n",
        "      cambio.extend( cambio_moneda( valor , sistema_monetario ) )\n",
        "    else:\n",
        "      print( f\"No se peude dar correctamente el cambio. Faltaría por devolver {valor}.\")\n",
        "\n",
        "\n",
        "  return cambio\n",
        "\n",
        "def cambio_monitorizado( valor , sistema_monetario ):\n",
        "  inicio = time.time()\n",
        "\n",
        "  print(cambio_moneda( valor , sistema_monetario ))\n",
        "\n",
        "  fin = time.time()\n",
        "  print(f'Duración de la ejecución: {fin-inicio}')\n",
        "\n"
      ],
      "metadata": {
        "id": "pTdCkN89vjgI"
      },
      "id": "pTdCkN89vjgI",
      "execution_count": 8,
      "outputs": []
    },
    {
      "cell_type": "code",
      "source": [
        "# Sugerencia para medir los tiempos.\n",
        "\n",
        "def MedirTiempo_with_return(func, *args):\n",
        "\n",
        "    inicio = time.time()\n",
        "\n",
        "\n",
        "\n",
        "    # Código a medir\n",
        "\n",
        "    result = func(*args)\n",
        "\n",
        "\n",
        "\n",
        "    fin = time.time()\n",
        "\n",
        "    print(f\"{func.__name__}{(args)} return ({result}), and takes: {fin-inicio}\")\n",
        "\n",
        "\n",
        "\n",
        "    return result\n"
      ],
      "metadata": {
        "id": "snLScmuGxIzm"
      },
      "id": "snLScmuGxIzm",
      "execution_count": 9,
      "outputs": []
    },
    {
      "cell_type": "code",
      "source": [
        "sist_monetario = { 1 , 2 , 5 , 10 , 20 , 50 }\n",
        "\n",
        "cambio_monitorizado( 74 , sist_monetario )"
      ],
      "metadata": {
        "colab": {
          "base_uri": "https://localhost:8080/"
        },
        "id": "Tabq8jLFp8ak",
        "outputId": "35f7df2e-c25f-4bcc-ea9c-5b9ef4e40315"
      },
      "id": "Tabq8jLFp8ak",
      "execution_count": 10,
      "outputs": [
        {
          "output_type": "stream",
          "name": "stdout",
          "text": [
            "[50, 20, 2, 2]\n",
            "Duración de la ejecución: 0.0019996166229248047\n"
          ]
        }
      ]
    },
    {
      "cell_type": "markdown",
      "id": "9cbf8561",
      "metadata": {
        "id": "9cbf8561"
      },
      "source": [
        "# Reto VC-2\n",
        "\n",
        "## Opción 1: Implementa una solución al problema de las 8 reinas en un tablero 8x8"
      ]
    },
    {
      "cell_type": "code",
      "execution_count": null,
      "id": "288b5db6",
      "metadata": {
        "id": "288b5db6"
      },
      "outputs": [],
      "source": [
        "# Ocho reinas\n",
        "# Escribe aquí tu código\n",
        "\n",
        "\n",
        ""
      ]
    },
    {
      "cell_type": "markdown",
      "id": "e0069a3c",
      "metadata": {
        "id": "e0069a3c"
      },
      "source": [
        "## Opción 2: Implementa una solución del problema de las Torres de Hanoi para un número arbitrario n de fichas."
      ]
    },
    {
      "cell_type": "code",
      "execution_count": 11,
      "id": "f55c9247",
      "metadata": {
        "id": "f55c9247"
      },
      "outputs": [],
      "source": [
        "# Torres de Hanoy\n",
        "def torres_hannoi( fichas , desde , hasta ):\n",
        "  # Se inicializan las variables.\n",
        "  columnas      = { 1 , 2 , 3 }\n",
        "  movimientos   = []\n",
        "\n",
        "  # Por eliminación se obtiene cuál es la columna que se usará como pivote.\n",
        "  pivote        = columnas.copy()\n",
        "  pivote.remove( desde )\n",
        "  pivote.remove( hasta )\n",
        "  pivote        = pivote.pop()\n",
        "\n",
        "  # Se calculan los movimientos.\n",
        "  if fichas == 1:\n",
        "    movimientos = [ ( desde , hasta ) ]\n",
        "\n",
        "  else:\n",
        "    movimientos.extend( torres_hannoi( fichas-1 , desde  , pivote ) )\n",
        "    movimientos.extend( torres_hannoi(        1 , desde  , hasta  ) )\n",
        "    movimientos.extend( torres_hannoi( fichas-1 , pivote , hasta  ) )\n",
        "\n",
        "  return movimientos"
      ]
    },
    {
      "cell_type": "code",
      "source": [
        "torres_hannoi(4,1,3)"
      ],
      "metadata": {
        "colab": {
          "base_uri": "https://localhost:8080/"
        },
        "id": "CioHji5qFXFz",
        "outputId": "742dfa7b-1aba-4c27-9698-dd87e55d3d29"
      },
      "id": "CioHji5qFXFz",
      "execution_count": 12,
      "outputs": [
        {
          "output_type": "execute_result",
          "data": {
            "text/plain": [
              "[(1, 2),\n",
              " (1, 3),\n",
              " (2, 3),\n",
              " (1, 2),\n",
              " (3, 1),\n",
              " (3, 2),\n",
              " (1, 2),\n",
              " (1, 3),\n",
              " (2, 3),\n",
              " (2, 1),\n",
              " (3, 1),\n",
              " (2, 3),\n",
              " (1, 2),\n",
              " (1, 3),\n",
              " (2, 3)]"
            ]
          },
          "metadata": {},
          "execution_count": 12
        }
      ]
    }
  ],
  "metadata": {
    "kernelspec": {
      "display_name": "Python 3 (ipykernel)",
      "language": "python",
      "name": "python3"
    },
    "language_info": {
      "codemirror_mode": {
        "name": "ipython",
        "version": 3
      },
      "file_extension": ".py",
      "mimetype": "text/x-python",
      "name": "python",
      "nbconvert_exporter": "python",
      "pygments_lexer": "ipython3",
      "version": "3.9.7"
    },
    "colab": {
      "provenance": [],
      "include_colab_link": true
    }
  },
  "nbformat": 4,
  "nbformat_minor": 5
}